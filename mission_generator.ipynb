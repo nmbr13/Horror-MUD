{
 "cells": [
  {
   "cell_type": "code",
   "execution_count": 2,
   "metadata": {},
   "outputs": [],
   "source": [
    "import numpy as np\n",
    "from collections import Counter"
   ]
  },
  {
   "cell_type": "code",
   "execution_count": 4,
   "metadata": {},
   "outputs": [],
   "source": [
    "event_list  = [\"A pressurized line has ruptured\",\n",
    "                        \"An air lock has broken\",\n",
    "                        \"Electrical lines are damaged\",\n",
    "                        \"Exposed wires have shorted\",\n",
    "                        \"Important display panels are cracked\",\n",
    "                        \"A large fire has broken out and is spreading\",\n",
    "                        \"Interior heat shields have broken off\",\n",
    "                        \"Vital systems are shutting down\",\n",
    "                        \"Multiple electrical systems have failed\",\n",
    "                        \"A critical drop in cabin pressure has occured\",\n",
    "                        \"A series of small explosions have caused damage\",\n",
    "                        \"A power coupling has untethered\",\n",
    "                        \"Falling debris has trapped crew members\"]\n",
    "        \n",
    "location_list = [\"cargo hold\",\n",
    "                \"medical bay\",\n",
    "                \"biology labratory\",\n",
    "                \"service corridor\",\n",
    "                \"maintenance crawlspace\",\n",
    "                \"observatory\",\n",
    "                \"armory\"\n",
    "                \"cockpit\",\n",
    "                \"command bridge\",\n",
    "                \"crews living quarters\",\n",
    "                \"logistics facility\",\n",
    "                \"dormatories\",\n",
    "                \"dining hall\",\n",
    "                \"tech labratory\",\n",
    "                \"engine room alpha\",\n",
    "                \"engine room beta\",\n",
    "                \"fore passage\",\n",
    "                \"aft passageway\",\n",
    "                \"infirmary\",\n",
    "                \"passenger quarters\",\n",
    "                \"warpdrive containment unit\",\n",
    "                \"captains quarters\",\n",
    "                \"long-distance communications hub\",\n",
    "                \"short-field communications console room\"]\n",
    "\n",
    "mission_rooms = {\n",
    "    \"Hub\": {\n",
    "        \"description\": \"Your party stands around a table discussing how to keep yourselves align\",\n",
    "        \"exits\": {\"outside\": \"Outside\"}\n",
    "    }\n",
    "}\n",
    "                 \n",
    "for loc in np.arange(0,len(location_list)):\n",
    "    location = location_list[loc]\n",
    "    rand_event = np.random.randint(0, len(event_list))\n",
    "    event = event_list[rand_event]\n",
    "    description = f\"{event} in the {location}\"\n",
    "    mission_rooms[location] = {'description':description, \"exits\": {\"Hub\"}}\n",
    "\n"
   ]
  },
  {
   "cell_type": "code",
   "execution_count": 10,
   "metadata": {},
   "outputs": [],
   "source": [
    "mission_rooms = {\n",
    "    \"Hub\": {\n",
    "        \"description\": \"Your party stands around a table discussing how to keep yourselves align\",\n",
    "        \"exits\": {\"outside\": \"Outside\"}\n",
    "    }\n",
    "}\n",
    "                 \n",
    "for loc in np.arange(0,len(location_list)):\n",
    "    location = location_list[loc]\n",
    "    rand_event = np.random.randint(0, len(event_list))\n",
    "    event = event_list[rand_event]\n",
    "    description = f\"{event} in the {location}\"\n",
    "    mission_rooms[location] = {'description':description, \"exits\": {\"Hub\"}}\n",
    "\n"
   ]
  },
  {
   "cell_type": "code",
   "execution_count": 11,
   "metadata": {},
   "outputs": [
    {
     "data": {
      "text/plain": [
       "{'Communication Hub': {'description': 'Your party stands around a table discussing how to keep yourselves align',\n",
       "  'exits': {'outside': 'Outside'}},\n",
       " 'cargo hold': {'description': 'Electrical lines are damaged in the cargo hold',\n",
       "  'exits': {'Hub'}},\n",
       " 'medical bay': {'description': 'An air lock has broken in the medical bay',\n",
       "  'exits': {'Hub'}},\n",
       " 'biology labratory': {'description': 'Electrical lines are damaged in the biology labratory',\n",
       "  'exits': {'Hub'}},\n",
       " 'service corridor': {'description': 'Important display panels are cracked in the service corridor',\n",
       "  'exits': {'Hub'}},\n",
       " 'maintenance crawlspace': {'description': 'Electrical lines are damaged in the maintenance crawlspace',\n",
       "  'exits': {'Hub'}},\n",
       " 'observatory': {'description': 'Falling debris has trapped crew members in the observatory',\n",
       "  'exits': {'Hub'}},\n",
       " 'armorycockpit': {'description': 'Important display panels are cracked in the armorycockpit',\n",
       "  'exits': {'Hub'}},\n",
       " 'command bridge': {'description': 'Falling debris has trapped crew members in the command bridge',\n",
       "  'exits': {'Hub'}},\n",
       " 'crews living quarters': {'description': 'An air lock has broken in the crews living quarters',\n",
       "  'exits': {'Hub'}},\n",
       " 'logistics facility': {'description': 'Multiple electrical systems have failed in the logistics facility',\n",
       "  'exits': {'Hub'}},\n",
       " 'dormatories': {'description': 'Multiple electrical systems have failed in the dormatories',\n",
       "  'exits': {'Hub'}},\n",
       " 'dining hall': {'description': 'A series of small explosions have caused damage in the dining hall',\n",
       "  'exits': {'Hub'}},\n",
       " 'tech labratory': {'description': 'A pressurized line has ruptured in the tech labratory',\n",
       "  'exits': {'Hub'}},\n",
       " 'engine room alpha': {'description': 'Electrical lines are damaged in the engine room alpha',\n",
       "  'exits': {'Hub'}},\n",
       " 'engine room beta': {'description': 'Interior heat shields have broken off in the engine room beta',\n",
       "  'exits': {'Hub'}},\n",
       " 'fore passage': {'description': 'Important display panels are cracked in the fore passage',\n",
       "  'exits': {'Hub'}},\n",
       " 'aft passageway': {'description': 'A series of small explosions have caused damage in the aft passageway',\n",
       "  'exits': {'Hub'}},\n",
       " 'infirmary': {'description': 'A series of small explosions have caused damage in the infirmary',\n",
       "  'exits': {'Hub'}},\n",
       " 'passenger quarters': {'description': 'A series of small explosions have caused damage in the passenger quarters',\n",
       "  'exits': {'Hub'}},\n",
       " 'warpdrive containment unit': {'description': 'Vital systems are shutting down in the warpdrive containment unit',\n",
       "  'exits': {'Hub'}},\n",
       " 'captains quarters': {'description': 'Vital systems are shutting down in the captains quarters',\n",
       "  'exits': {'Hub'}},\n",
       " 'long-distance communications hub': {'description': 'A critical drop in cabin pressure has occured in the long-distance communications hub',\n",
       "  'exits': {'Hub'}},\n",
       " 'short-field communications console room': {'description': 'A series of small explosions have caused damage in the short-field communications console room',\n",
       "  'exits': {'Hub'}}}"
      ]
     },
     "execution_count": 11,
     "metadata": {},
     "output_type": "execute_result"
    }
   ],
   "source": [
    "mission_rooms"
   ]
  },
  {
   "cell_type": "code",
   "execution_count": 182,
   "metadata": {},
   "outputs": [],
   "source": [
    "class Mission:\n",
    "    def __init__(self, missionTitle, game_size, difficulty_modifier):\n",
    "        self.event_list  = [\"A pressurized line has ruptured\",\n",
    "                        \"An air lock has broken\",\n",
    "                        \"Electrical lines are damaged\",\n",
    "                        \"Exposed wires have shorted\",\n",
    "                        \"Important display panels are cracked\",\n",
    "                        \"A large fire has broken out and is spreading\",\n",
    "                        \"Interior heat shields have broken off\",\n",
    "                        \"Vital systems are shutting down\",\n",
    "                        \"Multiple electrical systems have failed\",\n",
    "                        \"A critical drop in cabin pressure has occured\",\n",
    "                        \"A series of small explosions have caused damage\",\n",
    "                        \"A power coupling has untethered\",\n",
    "                        \"Falling debris has trapped crew members\"]\n",
    "        \n",
    "        self.location_list = [\"cargo hold\",\n",
    "                        \"medical bay\",\n",
    "                        \"biology labratory\",\n",
    "                        \"service corridor\",\n",
    "                        \"maintenance crawlspace\",\n",
    "                        \"observatory\",\n",
    "                        \"armory\"\n",
    "                        \"cockpit\",\n",
    "                        \"command bridge\",\n",
    "                        \"crews living quarters\",\n",
    "                        \"logistics facility\",\n",
    "                        \"dormatories\",\n",
    "                        \"dining hall\",\n",
    "                        \"tech labratory\",\n",
    "                        \"engine room alpha\",\n",
    "                        \"engine room beta\",\n",
    "                        \"fore passage\",\n",
    "                        \"aft passageway\",\n",
    "                        \"infirmary\",\n",
    "                        \"passenger quarters\",\n",
    "                        \"warpdrive containment unit\",\n",
    "                        \"captains quarters\",\n",
    "                        \"long-distance communications hub\",\n",
    "                        \"short-field communications console room\"]\n",
    "        self.title = missionTitle\n",
    "        self.event = self.event_list[np.random.randint(0, len(self.event_list))]\n",
    "        self.location = self.location_list[np.random.randint(0, len(self.location_list))]\n",
    "        self.difficulty = np.random.randint(10,20)+difficulty_modifier\n",
    "        \n",
    "        if self.difficulty>=10 and self.difficulty <14:\n",
    "            self.difficulty_text = \"LOW\"\n",
    "            self.max_party_size = 1\n",
    "        elif self.difficulty>=14 and self.difficulty <17:\n",
    "            self.difficulty_text = \"MODERATE\"\n",
    "            self.max_party_size = 2\n",
    "        elif self.difficulty>=18:\n",
    "            self.difficulty_text = \"HIGH\"\n",
    "            self.max_party_size = 3\n",
    "        \n",
    "        \n",
    "        self.missionBrief = f\"{self.event} in the {self.location}. Threat level for this mission is set to:  {self.difficulty_text}. I would advise sending at least {self.max_party_size} on this mission\"\n",
    "        self.partyMembers = []\n",
    "        self.missionChecks = []\n",
    "        self.missionResult = 'Mission Incomplete'\n",
    "        self.missionParameters = {'missionTitle' : self.title,\n",
    "                                 'missionSummary' : self.missionBrief,\n",
    "                                 'missionEvent': self.event,\n",
    "                                 'missionLocation' : self.location,\n",
    "                                 'missionDifficulty' : self.difficulty,\n",
    "                                 'missionParty' : self.partyMembers,\n",
    "                                 'missionResult' : self.missionResult,\n",
    "                                 'missionChecks' : self.missionChecks}\n",
    "        \n",
    "    def updateMissionParam(self):\n",
    "        self.missionParameters = {'missionTitle' : self.title,\n",
    "                                 'missionSummary' : self.missionBrief,\n",
    "                                 'missionEvent': self.event,\n",
    "                                 'missionLocation' : self.location,\n",
    "                                 'missionDifficulty' : self.difficulty,\n",
    "                                 'missionParty' : self.partyMembers,\n",
    "                                 'missionResult' : self.missionResult,\n",
    "                                 'missionChecks' : self.missionChecks}\n",
    "\n",
    "    def addPartyMembers(self, party_members):\n",
    "        self.partyMembers = party_members\n",
    "        self.updateMissionParam()\n",
    "    \n",
    "    def updateMissionResult(self, checks):\n",
    "        self.missionChecks = checks\n",
    "        results = [c >= self.difficulty for c in checks]\n",
    "\n",
    "        if 99 in checks:\n",
    "            result = \"Failed\"\n",
    "        elif True in results:\n",
    "            result = \"Passed\"\n",
    "        else:\n",
    "            result = 'Failed'\n",
    "\n",
    "        self.missionResult = result                         \n",
    "        self.updateMissionParam()\n",
    "        \n",
    "class GameParameters:\n",
    "    def __init__(self):\n",
    "        self.playerList = []\n",
    "        self.number_players = len(self.playerList)\n",
    "        self.Missions = []\n",
    "        self.missionLog = {}\n",
    "        self.mission_titles = [f\"Mission {n}\" for n in np.arange(1,101)]\n",
    "        \n",
    "    def createNewMission(self):\n",
    "        mission_object = Mission(self.mission_titles.pop(0), self.number_players)\n",
    "        self.Missions.append(mission_object)\n",
    "#         self.missionLog[f\"{mission_object.title}\"] = mission_object.missionParameters\n",
    "    \n",
    "    def addPlayers(self):\n",
    "        return\n",
    "    \n",
    "    def generateMissionLog(self):\n",
    "        for mission in self.Missions:\n",
    "            self.missionLog[mission.title] = {\n",
    "                \"Mission Summary\" : mission.missionBrief,\n",
    "                \"Threat Level\" : mission.difficulty_text,\n",
    "                \"Mission Result\" : mission.missionResult}\n",
    "            \n",
    "    def generateStatusReport(self):\n",
    "        self.generateMissionLog()\n",
    "        self.statusReport = Counter([v['Mission Result'] for k,v in Game1.missionLog.items()])\n",
    "\n"
   ]
  },
  {
   "cell_type": "code",
   "execution_count": 214,
   "metadata": {},
   "outputs": [],
   "source": [
    "# class criticalMissions: #high difficulty story beats with game impacting consequences\n",
    "#     def __init__(self, game_size):\n",
    "#         self.game_size = game_size\n",
    "#         # If mission fails - future missions get more difficult\n",
    "        \n",
    "        \n",
    "# Reavers and Raiders have been spotted on the radar systems. Get the cloaking system up in time\n",
    "# Life Support Shutdown and diminishing oxygen supply\n",
    "# Gravitational Anomoly\n",
    "# an alien lifeform has been detected onboard\n",
    "# Power has been cut and the ship goes dark\n",
    "game_size = 7\n",
    "random_player = \"***THIS GUY***\"\n",
    "criticalMission_dict = {\n",
    "    \"Raiders\" : {\n",
    "        'Intro_Text' : \"\"\"Your distress beacon has been picked up by a nearby ship! Out of the window, you notice a light moving agaist the backdrop of stars. \n",
    "                    However, as the craft draws near,  you see the crimson red hull grotesquely decorated with corpses and bodies or starbound travelers. \n",
    "                    The Reaver ship begins to circle. . . \"\"\",\n",
    "        'Mission_Text' : \"\"\"Shut down all power on the ship and go dark. The enemy ship is a long way out, perhaps your can go unseen. . . \"\"\",\n",
    "        'Difficulty' : round(game_size * (np.random.randint(3,8) / 10)),\n",
    "        'Passed' : \"You were able to successfully avoid detection. Your dark ship blends into the dark backdrop of space as the Reavers continue moving and slip out of view. You take a moment of quiet and much needed rest before turning your attention to other matters\",\n",
    "        'Failed' : \"It is too late! Harpoons puncture your hull and raiders begin to board your ship. Getting out of this mess was hard enough but now you have to do it while fighting pirates? So be it . . \",\n",
    "    },\n",
    "    \"LifeSupport\" : {\n",
    "        'Intro_Text' : \"\"\"As your discuss the best course of action with your crew, the air begins to feel thin as you struggle to breath. Multiple electrical shortages have caused the life support systems and \n",
    "                        carbon-monoxide scrubbers to malfunction. You begin to feel unsteady and light-headed as hypoxia sets in. Time and oxygen are in short supply. . . \"\"\",\n",
    "        'Mission_Text' : \"\"\"Find a way to stablize your crew and restore oxygen to the cabin \"\"\",\n",
    "        'Difficulty' : round(game_size * (np.random.randint(3,6) / 10)),\n",
    "        'Passed' : \"You were able to successfully avoid detection. Your dark ship blends into the dark backdrop of space as the Reavers continue moving and slip out of view. You take a moment of quiet and much needed rest before turning your attention to other matters\",\n",
    "        'Failed' : \"f{random_player} succumbs to his injuries. However, some of the crew was able to find oxygen masks in one of the air locks. While you can breath, seeing out of the foggy masks is difficult in the ships dark passage ways . . \",\n",
    "    },\n",
    "    \"Darkness\" : {\n",
    "        'Intro_Text' : \"\"\"The expansive darkness of space has never bothered you. At times, the solitude was even comforting. However, the primary generator has locked up and backup can only provide enough to\n",
    "                            keep essential systems online. As you make your way through the corridors, your vision limited to the dull yellow haze from your lighter, the darkness of space feels oppressively close . . . \"\"\",\n",
    "        'Mission_Text' : \"\"\"Get the primary generator online and restore power to the ship \"\"\",\n",
    "        'Difficulty' : round(game_size * (np.random.randint(1,4) / 10)),\n",
    "        'Passed' : \"Sometimes, a problem requires a methodical resolution. Other times, hitting pipes with a hammer gets the job done. The humm of the turbine restores light to the darkened hallways\",\n",
    "        'Failed' : \"Dark or light there is a job that needs doing if we are going to get out of this. . .\",\n",
    "    }\n",
    "}"
   ]
  },
  {
   "cell_type": "code",
   "execution_count": 215,
   "metadata": {},
   "outputs": [
    {
     "data": {
      "text/plain": [
       "'You were able to successfully avoid detection. Your dark ship blends into the dark backdrop of space as the Reavers continue moving and slip out of view. You take a moment of quiet and much needed rest before turnning your attention to other matters'"
      ]
     },
     "execution_count": 215,
     "metadata": {},
     "output_type": "execute_result"
    }
   ],
   "source": [
    "criticalMission_dict['Raiders']['Passed']"
   ]
  },
  {
   "cell_type": "code",
   "execution_count": 202,
   "metadata": {},
   "outputs": [
    {
     "data": {
      "text/plain": [
       "0.6"
      ]
     },
     "execution_count": 202,
     "metadata": {},
     "output_type": "execute_result"
    }
   ],
   "source": [
    "np.random.randint(2,7) / 10"
   ]
  },
  {
   "cell_type": "code",
   "execution_count": 171,
   "metadata": {},
   "outputs": [],
   "source": [
    "Mission_Consequences = [\n",
    "    \n",
    "    \"The ship begins to break apart\"\n",
    "    \"A fire begins to spread through the halls of the lower decks as one by one crucial systems fall offline\"\n",
    "    \"More and more of the halls and passages of your ship become unusable. You begin to feel the crushing expanse of space collapsing in\"\n",
    "    \"Power is becoming intermittent. As more and more of the ship falls into darkness, the silence of space becomes deafening\",\n",
    "    \"Life support systems are shutting down. You can feel the air growing thin as oxygen becomes a valuable resource\",\n",
    "    \"You look out a nearby window and wonder if your distress beacon has been pickup by any nearby \"\n",
    "]"
   ]
  },
  {
   "cell_type": "code",
   "execution_count": 162,
   "metadata": {},
   "outputs": [],
   "source": [
    "# utility_functions\n",
    "\n",
    "def genChecks(num):\n",
    "    return list(np.random.randint(1,20,num))"
   ]
  },
  {
   "cell_type": "code",
   "execution_count": 216,
   "metadata": {},
   "outputs": [
    {
     "name": "stdout",
     "output_type": "stream",
     "text": [
      "Beginning Game with ['Jeff', 'Sherley', 'Britta', 'Pierce', 'Annie', 'Abed', 'Troy']\n"
     ]
    }
   ],
   "source": [
    "# Players Join Game1\n",
    "players = ['Jeff', 'Sherley', 'Britta', 'Pierce', 'Annie', 'Abed', 'Troy']\n",
    "Game1 = GameParameters()\n",
    "Game1.players = players\n",
    "\n",
    "print(f\"Beginning Game with {players}\")"
   ]
  },
  {
   "cell_type": "code",
   "execution_count": 217,
   "metadata": {},
   "outputs": [
    {
     "ename": "TypeError",
     "evalue": "__init__() missing 1 required positional argument: 'difficulty_modifier'",
     "output_type": "error",
     "traceback": [
      "\u001b[1;31m---------------------------------------------------------------------------\u001b[0m",
      "\u001b[1;31mTypeError\u001b[0m                                 Traceback (most recent call last)",
      "\u001b[1;32m<ipython-input-217-39f022ab7cb2>\u001b[0m in \u001b[0;36m<module>\u001b[1;34m()\u001b[0m\n\u001b[0;32m      2\u001b[0m \u001b[1;31m# Go on Mission:\u001b[0m\u001b[1;33m\u001b[0m\u001b[1;33m\u001b[0m\u001b[0m\n\u001b[0;32m      3\u001b[0m \u001b[1;33m\u001b[0m\u001b[0m\n\u001b[1;32m----> 4\u001b[1;33m \u001b[0mGame1\u001b[0m\u001b[1;33m.\u001b[0m\u001b[0mcreateNewMission\u001b[0m\u001b[1;33m(\u001b[0m\u001b[1;33m)\u001b[0m\u001b[1;33m\u001b[0m\u001b[0m\n\u001b[0m\u001b[0;32m      5\u001b[0m \u001b[1;33m\u001b[0m\u001b[0m\n\u001b[0;32m      6\u001b[0m \u001b[1;31m# Group recieves crisis alert\u001b[0m\u001b[1;33m\u001b[0m\u001b[1;33m\u001b[0m\u001b[0m\n",
      "\u001b[1;32m<ipython-input-182-0589107248cc>\u001b[0m in \u001b[0;36mcreateNewMission\u001b[1;34m(self)\u001b[0m\n\u001b[0;32m    105\u001b[0m \u001b[1;33m\u001b[0m\u001b[0m\n\u001b[0;32m    106\u001b[0m     \u001b[1;32mdef\u001b[0m \u001b[0mcreateNewMission\u001b[0m\u001b[1;33m(\u001b[0m\u001b[0mself\u001b[0m\u001b[1;33m)\u001b[0m\u001b[1;33m:\u001b[0m\u001b[1;33m\u001b[0m\u001b[0m\n\u001b[1;32m--> 107\u001b[1;33m         \u001b[0mmission_object\u001b[0m \u001b[1;33m=\u001b[0m \u001b[0mMission\u001b[0m\u001b[1;33m(\u001b[0m\u001b[0mself\u001b[0m\u001b[1;33m.\u001b[0m\u001b[0mmission_titles\u001b[0m\u001b[1;33m.\u001b[0m\u001b[0mpop\u001b[0m\u001b[1;33m(\u001b[0m\u001b[1;36m0\u001b[0m\u001b[1;33m)\u001b[0m\u001b[1;33m,\u001b[0m \u001b[0mself\u001b[0m\u001b[1;33m.\u001b[0m\u001b[0mnumber_players\u001b[0m\u001b[1;33m)\u001b[0m\u001b[1;33m\u001b[0m\u001b[0m\n\u001b[0m\u001b[0;32m    108\u001b[0m         \u001b[0mself\u001b[0m\u001b[1;33m.\u001b[0m\u001b[0mMissions\u001b[0m\u001b[1;33m.\u001b[0m\u001b[0mappend\u001b[0m\u001b[1;33m(\u001b[0m\u001b[0mmission_object\u001b[0m\u001b[1;33m)\u001b[0m\u001b[1;33m\u001b[0m\u001b[0m\n\u001b[0;32m    109\u001b[0m \u001b[1;31m#         self.missionLog[f\"{mission_object.title}\"] = mission_object.missionParameters\u001b[0m\u001b[1;33m\u001b[0m\u001b[1;33m\u001b[0m\u001b[0m\n",
      "\u001b[1;31mTypeError\u001b[0m: __init__() missing 1 required positional argument: 'difficulty_modifier'"
     ]
    }
   ],
   "source": [
    "\n",
    "# Go on Mission:\n",
    "\n",
    "Game1.createNewMission()\n",
    "\n",
    "# Group recieves crisis alert\n",
    "print(Game1.Missions[-1].missionBrief)\n",
    "\n",
    "# Group votes on mission assignees\n",
    "mission_party_size = Game1.Missions[-1].max_party_size\n",
    "party_votes = 'Jeff Jeff Jeff Troy Abed Troy Annie Annie Jeff Jeff Britta Annie'.split()\n",
    "mission_assignees = list(Counter(player_votes).keys())[:mission_party_size]\n",
    "print(f\"{mission_assignees} will go on this mission\")\n",
    "\n",
    "# assignees roll a 1d20\n",
    "# Results are compiled into array\n",
    "mission_checks = genChecks(mission_party_size)\n",
    "\n",
    "print()\n",
    "print(f\"Secret Diff: {Game1.Missions[-1].difficulty}\")\n",
    "print()\n",
    "\n",
    "# self.updateMissionResult() with array\n",
    "Game1.Missions[-1].updateMissionResult(mission_checks)\n",
    "\n",
    "# assignees return to the communication hub\n",
    "# everyone is notified about result\n",
    "print(f\"{mission_assignees}rolled {mission_checks}\")\n",
    "print(f\"The Mission {Game1.Missions[-1].missionResult}\")\n"
   ]
  },
  {
   "cell_type": "code",
   "execution_count": 168,
   "metadata": {},
   "outputs": [
    {
     "data": {
      "text/plain": [
       "{'Mission 1': {'Mission Summary': 'A large fire has broken out and is spreading in the dining hall. Threat level for this mission is set to:  MODERATE. You may send up to 2 on this mission',\n",
       "  'Threat Level': 'MODERATE',\n",
       "  'Mission Result': 'Failed'},\n",
       " 'Mission 2': {'Mission Summary': 'Vital systems are shutting down in the warpdrive containment unit. Threat level for this mission is set to:  LOW. You may send up to 1 on this mission',\n",
       "  'Threat Level': 'LOW',\n",
       "  'Mission Result': 'Passed'}}"
      ]
     },
     "execution_count": 168,
     "metadata": {},
     "output_type": "execute_result"
    }
   ],
   "source": [
    "Game1.generateMissionLog()\n",
    "Game1.missionLog"
   ]
  },
  {
   "cell_type": "code",
   "execution_count": 169,
   "metadata": {},
   "outputs": [
    {
     "data": {
      "text/plain": [
       "Counter({'Failed': 1, 'Passed': 1})"
      ]
     },
     "execution_count": 169,
     "metadata": {},
     "output_type": "execute_result"
    }
   ],
   "source": [
    "Game1.generateStatusReport()\n",
    "Game1.statusReport"
   ]
  },
  {
   "cell_type": "code",
   "execution_count": null,
   "metadata": {},
   "outputs": [],
   "source": [
    "# Players Vote on who they think is BadGuy\n",
    "#Players Vote to Punish BadGuy\n",
    "#Players either succeed or fail\n",
    "# If player"
   ]
  }
 ],
 "metadata": {
  "kernelspec": {
   "display_name": "Python 3",
   "language": "python",
   "name": "python3"
  },
  "language_info": {
   "codemirror_mode": {
    "name": "ipython",
    "version": 3
   },
   "file_extension": ".py",
   "mimetype": "text/x-python",
   "name": "python",
   "nbconvert_exporter": "python",
   "pygments_lexer": "ipython3",
   "version": "3.7.0"
  }
 },
 "nbformat": 4,
 "nbformat_minor": 2
}
