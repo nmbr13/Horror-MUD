{
 "cells": [
  {
   "cell_type": "code",
   "execution_count": 1,
   "metadata": {},
   "outputs": [],
   "source": [
    "import numpy as np\n",
    "from collections import Counter"
   ]
  },
  {
   "cell_type": "code",
   "execution_count": 98,
   "metadata": {},
   "outputs": [],
   "source": [
    "class Mission:\n",
    "    def __init__(self, missionTitle, game_size):\n",
    "        self.event_list  = [\"A pressurized line has ruptured\",\n",
    "                        \"An air lock has broken\",\n",
    "                        \"Electrical lines are damaged\",\n",
    "                        \"Exposed wires have shorted\",\n",
    "                        \"Important display panels are cracked\",\n",
    "                        \"A large fire has broken out and is spreading\",\n",
    "                        \"Interior heat shields have broken off\",\n",
    "                        \"Vital systems are shutting down\",\n",
    "                        \"Multiple electrical systems have failed\",\n",
    "                        \"A critical drop in cabin pressure has occured\",\n",
    "                        \"A series of small explosions have caused damage\",\n",
    "                        \"A power coupling has untethered\",\n",
    "                        \"Falling debris has trapped crew members\"]\n",
    "        \n",
    "        self.location_list = [\"cargo hold\",\n",
    "                        \"medical bay\",\n",
    "                        \"biology labratory\",\n",
    "                        \"service corridor\",\n",
    "                        \"maintenance crawlspace\",\n",
    "                        \"observatory\",\n",
    "                        \"armory\"\n",
    "                        \"cockpit\",\n",
    "                        \"command bridge\",\n",
    "                        \"crews living quarters\",\n",
    "                        \"logistics facility\",\n",
    "                        \"dormatories\",\n",
    "                        \"dining hall\",\n",
    "                        \"tech labratory\",\n",
    "                        \"engine room alpha\",\n",
    "                        \"engine room beta\",\n",
    "                        \"fore passage\",\n",
    "                        \"aft passageway\",\n",
    "                        \"infirmary\",\n",
    "                        \"passenger quarters\",\n",
    "                        \"warpdrive containment unit\",\n",
    "                        \"captains quarters\",\n",
    "                        \"long-distance communications hub\",\n",
    "                        \"short-field communications console room\"]\n",
    "        self.title = missionTitle\n",
    "        self.event = self.event_list[np.random.randint(0, len(self.event_list))]\n",
    "        self.location = self.location_list[np.random.randint(0, len(self.location_list))]\n",
    "        self.difficulty = np.random.randint(10,20)\n",
    "        \n",
    "        if self.difficulty>=10 and self.difficulty <14:\n",
    "            self.difficulty_text = \"LOW\"\n",
    "            self.max_party_size = 1\n",
    "        elif self.difficulty>=14 and self.difficulty <17:\n",
    "            self.difficulty_text = \"MODERATE\"\n",
    "            self.max_party_size = 2\n",
    "        elif self.difficulty>=18 and self.difficulty < 20:\n",
    "            self.difficulty_text = \"HIGH\"\n",
    "            self.max_party_size = 3\n",
    "        else:\n",
    "            self.difficulty_text = \"CRITICAL\"\n",
    "            self.max_party_size = 4\n",
    "        \n",
    "        self.missionBrief = f\"{self.event} in the {self.location}. Difficulty level for this mission is set to:  {self.difficulty_text}. You may send up to {self.max_party_size} on this mission\"\n",
    "        self.partyMembers = []\n",
    "        self.missionChecks = []\n",
    "        self.missionResult = 'Mission Incomplete'\n",
    "        self.missionParameters = {'missionTitle' : self.title,\n",
    "                                 'missionSummary' : self.missionBrief,\n",
    "                                 'missionEvent': self.event,\n",
    "                                 'missionLocation' : self.location,\n",
    "                                 'missionDifficulty' : self.difficulty,\n",
    "                                 'missionParty' : self.partyMembers,\n",
    "                                 'missionResult' : self.missionResult,\n",
    "                                 'missionChecks' : self.missionChecks}\n",
    "        \n",
    "    def updateMissionParam(self):\n",
    "        self.missionParameters = {'missionTitle' : self.title,\n",
    "                                 'missionSummary' : self.missionBrief,\n",
    "                                 'missionEvent': self.event,\n",
    "                                 'missionLocation' : self.location,\n",
    "                                 'missionDifficulty' : self.difficulty,\n",
    "                                 'missionParty' : self.partyMembers,\n",
    "                                 'missionResult' : self.missionResult,\n",
    "                                 'missionChecks' : self.missionChecks}\n",
    "\n",
    "    def addPartyMembers(self, party_members):\n",
    "        self.partyMembers = party_members\n",
    "        self.updateMissionParam()\n",
    "    \n",
    "    def updateMissionResult(self, checks):\n",
    "        self.missionChecks = checks\n",
    "        results = [c >= self.difficulty for c in checks]\n",
    "\n",
    "        if 99 in checks:\n",
    "            result = \"Failed\"\n",
    "        elif True in results:\n",
    "            result = \"Passed\"\n",
    "        else:\n",
    "            result = 'Failed'\n",
    "\n",
    "        self.missionResult = result                         \n",
    "        self.updateMissionParam()\n",
    "        \n",
    "class GameParameters:\n",
    "    def __init__(self):\n",
    "        self.playerList = []\n",
    "        self.number_players = len(self.playerList)\n",
    "        self.Missions = []\n",
    "        self.missionLog = {}\n",
    "        self.mission_titles = [f\"Mission {n}\" for n in np.arange(1,101)]\n",
    "\n",
    "    def createNewMission(self):\n",
    "        mission_object = Mission(self.mission_titles.pop(0), self.number_players)\n",
    "        self.Missions.append(mission_object)\n",
    "#         self.missionLog[f\"{mission_object.title}\"] = mission_object.missionParameters\n",
    "    \n",
    "    def addPlayers(self):\n",
    "        return\n",
    "    \n",
    "    def generateMissionLog(self):\n",
    "        for mission in self.Missions:\n",
    "            self.missionLog[mission.title] = {\n",
    "                \"Mission Summary\" : mission.missionBrief,\n",
    "                \"Threat Level\" : mission.difficulty_text,\n",
    "                \"Mission Result\" : mission.missionResult}\n",
    "\n"
   ]
  },
  {
   "cell_type": "code",
   "execution_count": 99,
   "metadata": {},
   "outputs": [],
   "source": [
    "# utility_functions\n",
    "\n",
    "def genChecks(num):\n",
    "    return list(np.random.randint(1,20,num))"
   ]
  },
  {
   "cell_type": "code",
   "execution_count": 100,
   "metadata": {},
   "outputs": [
    {
     "ename": "TypeError",
     "evalue": "__init__() takes 1 positional argument but 2 were given",
     "output_type": "error",
     "traceback": [
      "\u001b[1;31m---------------------------------------------------------------------------\u001b[0m",
      "\u001b[1;31mTypeError\u001b[0m                                 Traceback (most recent call last)",
      "\u001b[1;32m<ipython-input-100-48289c2e6a27>\u001b[0m in \u001b[0;36m<module>\u001b[1;34m()\u001b[0m\n\u001b[1;32m----> 1\u001b[1;33m \u001b[0mgameOne\u001b[0m \u001b[1;33m=\u001b[0m \u001b[0mGameParameters\u001b[0m\u001b[1;33m(\u001b[0m\u001b[1;36m16\u001b[0m\u001b[1;33m)\u001b[0m\u001b[1;33m\u001b[0m\u001b[0m\n\u001b[0m",
      "\u001b[1;31mTypeError\u001b[0m: __init__() takes 1 positional argument but 2 were given"
     ]
    }
   ],
   "source": [
    "gameOne = GameParameters(16)"
   ]
  },
  {
   "cell_type": "code",
   "execution_count": 101,
   "metadata": {},
   "outputs": [],
   "source": [
    "gameOne.createNewMission()\n",
    "gameOne.createNewMission()\n",
    "gameOne.createNewMission()"
   ]
  },
  {
   "cell_type": "code",
   "execution_count": 102,
   "metadata": {},
   "outputs": [
    {
     "data": {
      "text/plain": [
       "{'Mission 1': {'Mission Summary': 'Electrical lines are damaged in the long-distance communications hub. Threat level for this mission is set to:  MODERATE',\n",
       "  'Threat Level': 'MODERATE',\n",
       "  'Mission Result': 'Pass'},\n",
       " 'Mission 2': {'Mission Summary': 'A series of small explosions have caused damage in the maintenance crawlspace. Threat level for this mission is set to:  LOW',\n",
       "  'Threat Level': 'LOW',\n",
       "  'Mission Result': 'Pass'},\n",
       " 'Mission 3': {'Mission Summary': 'Vital systems are shutting down in the long-distance communications hub. Threat level for this mission is set to:  CRITICAL',\n",
       "  'Threat Level': 'CRITICAL',\n",
       "  'Mission Result': 'Pass'},\n",
       " 'Mission 4': {'Mission Summary': 'Multiple electrical systems have failed in the logistics facility. Difficulty level for this mission is set to:  LOW. You may send up to 1 on this mission',\n",
       "  'Threat Level': 'LOW',\n",
       "  'Mission Result': 'Mission Incomplete'},\n",
       " 'Mission 5': {'Mission Summary': 'Important display panels are cracked in the service corridor. Difficulty level for this mission is set to:  LOW. You may send up to 1 on this mission',\n",
       "  'Threat Level': 'LOW',\n",
       "  'Mission Result': 'Mission Incomplete'},\n",
       " 'Mission 6': {'Mission Summary': 'A critical drop in cabin pressure has occured in the infirmary. Difficulty level for this mission is set to:  CRITICAL. You may send up to 4 on this mission',\n",
       "  'Threat Level': 'CRITICAL',\n",
       "  'Mission Result': 'Mission Incomplete'}}"
      ]
     },
     "execution_count": 102,
     "metadata": {},
     "output_type": "execute_result"
    }
   ],
   "source": [
    "gameOne.Missions[1].updateMissionResult(genChecks(3))\n",
    "gameOne.Missions[0].updateMissionResult(genChecks(1))\n",
    "gameOne.Missions[2].updateMissionResult(genChecks(4))\n",
    "\n",
    "gameOne.generateMissionLog()\n",
    "gameOne.missionLog\n"
   ]
  },
  {
   "cell_type": "raw",
   "metadata": {},
   "source": [
    "Go on Mission:\n",
    "\n",
    "Group recieves crisis alert\n",
    "Group votes on mission assignees\n",
    "assignees roll a 1d20\n",
    "Results are compiled into array\n",
    "self.updateMissionResult() with array\n",
    "assignees return to the communication hub\n",
    "everyone is notified about result\n",
    "\n"
   ]
  },
  {
   "cell_type": "code",
   "execution_count": 121,
   "metadata": {},
   "outputs": [
    {
     "name": "stdout",
     "output_type": "stream",
     "text": [
      "Beginning Game with ['Jeff', 'Sherley', 'Britta', 'Pierce', 'Annie', 'Abed', 'Troy']\n"
     ]
    }
   ],
   "source": [
    "# Players Join Game1\n",
    "players = ['Jeff', 'Sherley', 'Britta', 'Pierce', 'Annie', 'Abed', 'Troy']\n",
    "Game1 = GameParameters()\n",
    "Game1.players = players\n",
    "\n",
    "print(f\"Beginning Game with {players}\")"
   ]
  },
  {
   "cell_type": "code",
   "execution_count": 126,
   "metadata": {},
   "outputs": [
    {
     "name": "stdout",
     "output_type": "stream",
     "text": [
      "Multiple electrical systems have failed in the fore passage. Difficulty level for this mission is set to:  MODERATE. You may send up to 2 on this mission\n",
      "['Jeff', 'Britta'] will go on this mission\n",
      "\n",
      "Secret Diff: 16\n",
      "\n",
      "['Jeff', 'Britta']rolled [15, 11]\n",
      "The Mission Failed\n"
     ]
    }
   ],
   "source": [
    "\n",
    "# Go on Mission:\n",
    "\n",
    "Game1.createNewMission()\n",
    "\n",
    "# Group recieves crisis alert\n",
    "print(Game1.Missions[-1].missionBrief)\n",
    "\n",
    "# Group votes on mission assignees\n",
    "mission_party_size = Game1.Missions[-1].max_party_size\n",
    "party_votes = 'Jeff Jeff Jeff Troy Abed Troy Annie Annie Jeff Jeff Britta Annie'.split()\n",
    "mission_assignees = list(Counter(player_votes).keys())[:mission_party_size]\n",
    "print(f\"{mission_assignees} will go on this mission\")\n",
    "\n",
    "# assignees roll a 1d20\n",
    "# Results are compiled into array\n",
    "mission_checks = genChecks(mission_party_size)\n",
    "\n",
    "print()\n",
    "print(f\"Secret Diff: {Game1.Missions[-1].difficulty}\")\n",
    "print()\n",
    "\n",
    "# self.updateMissionResult() with array\n",
    "Game1.Missions[-1].updateMissionResult(mission_checks)\n",
    "\n",
    "# assignees return to the communication hub\n",
    "# everyone is notified about result\n",
    "print(f\"{mission_assignees}rolled {mission_checks}\")\n",
    "print(f\"The Mission {Game1.Missions[-1].missionResult}\")\n",
    "\n",
    "\n"
   ]
  },
  {
   "cell_type": "code",
   "execution_count": 128,
   "metadata": {},
   "outputs": [
    {
     "data": {
      "text/plain": [
       "{'Mission 1': {'Mission Summary': 'A pressurized line has ruptured in the engine room beta. Difficulty level for this mission is set to:  LOW. You may send up to 1 on this mission',\n",
       "  'Threat Level': 'LOW',\n",
       "  'Mission Result': 'Failed'},\n",
       " 'Mission 2': {'Mission Summary': 'A large fire has broken out and is spreading in the armorycockpit. Difficulty level for this mission is set to:  MODERATE. You may send up to 2 on this mission',\n",
       "  'Threat Level': 'MODERATE',\n",
       "  'Mission Result': 'Failed'},\n",
       " 'Mission 3': {'Mission Summary': 'Multiple electrical systems have failed in the passenger quarters. Difficulty level for this mission is set to:  LOW. You may send up to 1 on this mission',\n",
       "  'Threat Level': 'LOW',\n",
       "  'Mission Result': 'Passed'},\n",
       " 'Mission 4': {'Mission Summary': 'Multiple electrical systems have failed in the fore passage. Difficulty level for this mission is set to:  MODERATE. You may send up to 2 on this mission',\n",
       "  'Threat Level': 'MODERATE',\n",
       "  'Mission Result': 'Failed'}}"
      ]
     },
     "execution_count": 128,
     "metadata": {},
     "output_type": "execute_result"
    }
   ],
   "source": [
    "Game1.generateMissionLog()\n",
    "Game1.missionLog"
   ]
  },
  {
   "cell_type": "code",
   "execution_count": null,
   "metadata": {},
   "outputs": [],
   "source": []
  }
 ],
 "metadata": {
  "kernelspec": {
   "display_name": "Python 3",
   "language": "python",
   "name": "python3"
  },
  "language_info": {
   "codemirror_mode": {
    "name": "ipython",
    "version": 3
   },
   "file_extension": ".py",
   "mimetype": "text/x-python",
   "name": "python",
   "nbconvert_exporter": "python",
   "pygments_lexer": "ipython3",
   "version": "3.7.0"
  }
 },
 "nbformat": 4,
 "nbformat_minor": 2
}
