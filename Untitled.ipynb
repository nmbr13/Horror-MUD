{
 "cells": [
  {
   "cell_type": "code",
   "execution_count": 4,
   "metadata": {},
   "outputs": [],
   "source": [
    "import mud_utilities"
   ]
  },
  {
   "cell_type": "code",
   "execution_count": 5,
   "metadata": {},
   "outputs": [],
   "source": [
    "from mud_utilities import utilities"
   ]
  },
  {
   "cell_type": "code",
   "execution_count": 37,
   "metadata": {},
   "outputs": [],
   "source": [
    "current_room  = 'hub'\n",
    "\n",
    "class utilities:\n",
    "    def __init__(self, players):\n",
    "        \"\"\"\n",
    "            Utility methods use in a game.\n",
    "            players = dict object of players, ids, and player attributes\n",
    "        \"\"\"\n",
    "        self.players = players\n",
    "\n",
    "    def message_all(self, message):\n",
    "        for id_iter in self.players.keys():\n",
    "            # mud.send_message(id_iter, message)\n",
    "            print(id_iter, message)\n",
    "\n",
    "    def notify_room(self, message):\n",
    "        for id_iter in self.players.keys():\n",
    "            if self.players[id_iter]['room'] == current_room:\n",
    "                # mud.send_message(id_iter, message)\n",
    "                print(id_iter, message)\n",
    "    \n",
    "    def enemy_hazard(self, victim_id):\n",
    "        self.notify_room(\"a newly hatched creature lunges out of the darkness\")\n",
    "        \n",
    "        if np.random.randint(0,10) >= 7:\n",
    "            self.notify_room(\"{} takes 15 damage\".format(self.players[vicitim_id]['name']))\n",
    "        else:\n",
    "            self.notify_room(\"{} is able to dodge the attach\".format(self.players[vicitim_id]['name']))"
   ]
  },
  {
   "cell_type": "code",
   "execution_count": 38,
   "metadata": {},
   "outputs": [],
   "source": [
    "utilities = utilities(players = {0 : \n",
    "                                     {'name': 'jeff',\n",
    "                                      'room':'hub'},\n",
    "                                 1 : \n",
    "                                     {'name': 'britta',\n",
    "                                      'room': 'hub'}}\n",
    "                     )"
   ]
  },
  {
   "cell_type": "code",
   "execution_count": 39,
   "metadata": {},
   "outputs": [
    {
     "name": "stdout",
     "output_type": "stream",
     "text": [
      "0 a newly hatched creature lunges out of the darkness\n",
      "1 a newly hatched creature lunges out of the darkness\n"
     ]
    },
    {
     "ename": "NameError",
     "evalue": "name 'vicitim_id' is not defined",
     "output_type": "error",
     "traceback": [
      "\u001b[1;31m---------------------------------------------------------------------------\u001b[0m",
      "\u001b[1;31mNameError\u001b[0m                                 Traceback (most recent call last)",
      "\u001b[1;32m<ipython-input-39-cbca8f5c350e>\u001b[0m in \u001b[0;36m<module>\u001b[1;34m()\u001b[0m\n\u001b[1;32m----> 1\u001b[1;33m \u001b[0mutilities\u001b[0m\u001b[1;33m.\u001b[0m\u001b[0menemy_hazard\u001b[0m\u001b[1;33m(\u001b[0m\u001b[1;36m0\u001b[0m\u001b[1;33m)\u001b[0m\u001b[1;33m\u001b[0m\u001b[0m\n\u001b[0m",
      "\u001b[1;32m<ipython-input-37-80f6b7d1848a>\u001b[0m in \u001b[0;36menemy_hazard\u001b[1;34m(self, victim_id)\u001b[0m\n\u001b[0;32m     26\u001b[0m             \u001b[0mself\u001b[0m\u001b[1;33m.\u001b[0m\u001b[0mnotify_room\u001b[0m\u001b[1;33m(\u001b[0m\u001b[1;34m\"{} takes 15 damage\"\u001b[0m\u001b[1;33m.\u001b[0m\u001b[0mformat\u001b[0m\u001b[1;33m(\u001b[0m\u001b[0mself\u001b[0m\u001b[1;33m.\u001b[0m\u001b[0mplayers\u001b[0m\u001b[1;33m[\u001b[0m\u001b[0mvicitim_id\u001b[0m\u001b[1;33m]\u001b[0m\u001b[1;33m[\u001b[0m\u001b[1;34m'name'\u001b[0m\u001b[1;33m]\u001b[0m\u001b[1;33m)\u001b[0m\u001b[1;33m)\u001b[0m\u001b[1;33m\u001b[0m\u001b[0m\n\u001b[0;32m     27\u001b[0m         \u001b[1;32melse\u001b[0m\u001b[1;33m:\u001b[0m\u001b[1;33m\u001b[0m\u001b[0m\n\u001b[1;32m---> 28\u001b[1;33m             \u001b[0mself\u001b[0m\u001b[1;33m.\u001b[0m\u001b[0mnotify_room\u001b[0m\u001b[1;33m(\u001b[0m\u001b[1;34m\"{} is able to dodge the attach\"\u001b[0m\u001b[1;33m.\u001b[0m\u001b[0mformat\u001b[0m\u001b[1;33m(\u001b[0m\u001b[0mself\u001b[0m\u001b[1;33m.\u001b[0m\u001b[0mplayers\u001b[0m\u001b[1;33m[\u001b[0m\u001b[0mvicitim_id\u001b[0m\u001b[1;33m]\u001b[0m\u001b[1;33m[\u001b[0m\u001b[1;34m'name'\u001b[0m\u001b[1;33m]\u001b[0m\u001b[1;33m)\u001b[0m\u001b[1;33m)\u001b[0m\u001b[1;33m\u001b[0m\u001b[0m\n\u001b[0m",
      "\u001b[1;31mNameError\u001b[0m: name 'vicitim_id' is not defined"
     ]
    }
   ],
   "source": [
    "utilities.enemy_hazard(0)"
   ]
  },
  {
   "cell_type": "code",
   "execution_count": null,
   "metadata": {},
   "outputs": [],
   "source": []
  }
 ],
 "metadata": {
  "kernelspec": {
   "display_name": "Python 3",
   "language": "python",
   "name": "python3"
  },
  "language_info": {
   "codemirror_mode": {
    "name": "ipython",
    "version": 3
   },
   "file_extension": ".py",
   "mimetype": "text/x-python",
   "name": "python",
   "nbconvert_exporter": "python",
   "pygments_lexer": "ipython3",
   "version": "3.7.0"
  }
 },
 "nbformat": 4,
 "nbformat_minor": 2
}
